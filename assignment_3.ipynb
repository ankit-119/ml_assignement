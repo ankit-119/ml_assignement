{
 "cells": [
  {
   "cell_type": "code",
   "execution_count": 5,
   "metadata": {},
   "outputs": [
    {
     "name": "stdout",
     "output_type": "stream",
     "text": [
      "Probability Of B|A  0.0303030303030303\n"
     ]
    }
   ],
   "source": [
    "#Question 1\n",
    "def probability(a,b,ab):\n",
    "    print(\"Probability Of B|A \",(ab*b)/a)\n",
    "    \n",
    "a= 11 / 36 #(P(A))\n",
    "b = 6 / 36 #(P(B))\n",
    "ab= 2 / 36 #(P(A|B)) \n",
    "\n",
    "probability(a,b,ab)"
   ]
  },
  {
   "cell_type": "code",
   "execution_count": 6,
   "metadata": {},
   "outputs": [
    {
     "name": "stdout",
     "output_type": "stream",
     "text": [
      "Probability Of The Getting A Black Ball P(A) Is =  0.5142857142857142\n",
      "Probability Of The Getting First Bag Is P(B)=  0.5\n",
      "Probability Of The Getting A Black Ball Given It Is First Bag Is P(A|B)=  0.6\n",
      "Probability Of The Getting A First Bag Given It Black Ball Is P(B|A)=  0.5833333333333334\n"
     ]
    }
   ],
   "source": [
    "a=((6/10)*(1/2))+((3/7)*(1/2))\n",
    "print(\"Probability Of The Getting A Black Ball P(A) Is = \",a) \n",
    "\n",
    "b=1/2\n",
    "print(\"Probability Of The Getting First Bag Is P(B)= \",b) \n",
    "\n",
    "ab=3/5\n",
    "print(\"Probability Of The Getting A Black Ball Given It Is First Bag Is P(A|B)= \",ab)\n",
    "\n",
    "#Formula   P(A|B)=(P(B|A)*P(A))/P(B)\n",
    "\n",
    "ba=(ab*b)/a\n",
    "print(\"Probability Of The Getting A First Bag Given It Black Ball Is P(B|A)= \",ba)"
   ]
  },
  {
   "cell_type": "code",
   "execution_count": 7,
   "metadata": {},
   "outputs": [
    {
     "name": "stdout",
     "output_type": "stream",
     "text": [
      "Probability the number is actually a four =  0.28571428571428564\n"
     ]
    }
   ],
   "source": [
    "#Question 3\n",
    "a=1/6 #probability four occurs\n",
    "b=5/6 #probability four does not occur\n",
    "ca=2/3 #person speaks truth\n",
    "cb=1-(2/3) #person speaks lie\n",
    "\n",
    "#according to baye's theorm\n",
    "\n",
    "#P ( A/C ) = (P(A) x P ( C/A) ) / ( P(A) x P ( C/A) + P(B) x P ( C/B) )\n",
    "\n",
    "ac=(a*ca/((a*ca)+(b*cb)))\n",
    "print(\"Probability the number is actually a four = \",ac)"
   ]
  },
  {
   "cell_type": "code",
   "execution_count": null,
   "metadata": {},
   "outputs": [],
   "source": []
  }
 ],
 "metadata": {
  "kernelspec": {
   "display_name": "Python 3",
   "language": "python",
   "name": "python3"
  },
  "language_info": {
   "codemirror_mode": {
    "name": "ipython",
    "version": 3
   },
   "file_extension": ".py",
   "mimetype": "text/x-python",
   "name": "python",
   "nbconvert_exporter": "python",
   "pygments_lexer": "ipython3",
   "version": "3.6.5"
  }
 },
 "nbformat": 4,
 "nbformat_minor": 2
}
